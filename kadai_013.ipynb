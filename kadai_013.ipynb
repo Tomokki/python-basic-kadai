{
  "nbformat": 4,
  "nbformat_minor": 0,
  "metadata": {
    "colab": {
      "provenance": [],
      "authorship_tag": "ABX9TyPSlTJ0SzYcJJpyL9EK1Zih",
      "include_colab_link": true
    },
    "kernelspec": {
      "name": "python3",
      "display_name": "Python 3"
    },
    "language_info": {
      "name": "python"
    }
  },
  "cells": [
    {
      "cell_type": "markdown",
      "metadata": {
        "id": "view-in-github",
        "colab_type": "text"
      },
      "source": [
        "<a href=\"https://colab.research.google.com/github/Tomokki/python-basic-kadai/blob/main/kadai_013.ipynb\" target=\"_parent\"><img src=\"https://colab.research.google.com/assets/colab-badge.svg\" alt=\"Open In Colab\"/></a>"
      ]
    },
    {
      "cell_type": "code",
      "execution_count": 3,
      "metadata": {
        "id": "nEgM7BWzsBjy"
      },
      "outputs": [],
      "source": [
        "def calculate_total_price(price, tax_rate=0.1):\n",
        "    total_price = price * (1 + tax_rate)\n",
        "    return int(total_price)\n",
        "\n",
        "product_price = int(input(\"商品の金額: \"))\n",
        "total_price_with_tax = calculate_total_price(product_price)\n",
        "\n",
        "print(f\"商品の金額: {product_price} 円\")\n",
        "print(f\"消費税を加えた合計金額: {total_price_with_tax} 円\")\n"
      ]
    }
  ]
}