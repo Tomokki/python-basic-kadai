{
  "nbformat": 4,
  "nbformat_minor": 0,
  "metadata": {
    "colab": {
      "provenance": [],
      "authorship_tag": "ABX9TyO/g8cAFtYecGGp7w6m9lMY",
      "include_colab_link": true
    },
    "kernelspec": {
      "name": "python3",
      "display_name": "Python 3"
    },
    "language_info": {
      "name": "python"
    }
  },
  "cells": [
    {
      "cell_type": "markdown",
      "metadata": {
        "id": "view-in-github",
        "colab_type": "text"
      },
      "source": [
        "<a href=\"https://colab.research.google.com/github/Tomokki/python-basic-kadai/blob/main/kadai_008.ipynb\" target=\"_parent\"><img src=\"https://colab.research.google.com/assets/colab-badge.svg\" alt=\"Open In Colab\"/></a>"
      ]
    },
    {
      "cell_type": "code",
      "execution_count": null,
      "metadata": {
        "id": "37WMlKBrdXLG"
      },
      "outputs": [],
      "source": [
        "import random\n",
        "\n",
        "var=random.randint(0, 100)\n",
        "\n",
        "if var % 15 == 0 :\n",
        "    print(\"FizzBuzz\")\n",
        "if var % 3 == 0 :\n",
        "    print(\"Fizz\")\n",
        "if var % 5 == 0 :\n",
        "    print(\"Buzz\")\n",
        "else:\n",
        "    print(var)\n"
      ]
    }
  ]
}