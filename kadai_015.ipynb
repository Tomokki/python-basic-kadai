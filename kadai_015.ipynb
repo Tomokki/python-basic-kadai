{
  "nbformat": 4,
  "nbformat_minor": 0,
  "metadata": {
    "colab": {
      "provenance": [],
      "authorship_tag": "ABX9TyMn2oGTuAVtf9bSZ0WMAjG9",
      "include_colab_link": true
    },
    "kernelspec": {
      "name": "python3",
      "display_name": "Python 3"
    },
    "language_info": {
      "name": "python"
    }
  },
  "cells": [
    {
      "cell_type": "markdown",
      "metadata": {
        "id": "view-in-github",
        "colab_type": "text"
      },
      "source": [
        "<a href=\"https://colab.research.google.com/github/Tomokki/python-basic-kadai/blob/main/kadai_015.ipynb\" target=\"_parent\"><img src=\"https://colab.research.google.com/assets/colab-badge.svg\" alt=\"Open In Colab\"/></a>"
      ]
    },
    {
      "cell_type": "code",
      "source": [
        "class Human:\n",
        "    def __init__(self, name, age):\n",
        "        self.name = name\n",
        "        self.age = age\n",
        "\n",
        "    def printinfo(self):\n",
        "        print(f\"名前: {self.name}\")\n",
        "        print(f\"年齢: {self.age}\")\n",
        "\n",
        "# Humanクラスのインスタンス作成\n",
        "human_instance = Human(\"侍太郎\", 36)\n",
        "\n",
        "# printinfoメソッドを呼び出し属性表示\n",
        "human_instance.printinfo()\n"
      ],
      "metadata": {
        "id": "fwr8lD4wYfui"
      },
      "execution_count": null,
      "outputs": []
    }
  ]
}