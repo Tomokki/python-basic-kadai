{
  "nbformat": 4,
  "nbformat_minor": 0,
  "metadata": {
    "colab": {
      "provenance": [],
      "authorship_tag": "ABX9TyO+NC+BYfeo0s/h1MkCazO6",
      "include_colab_link": true
    },
    "kernelspec": {
      "name": "python3",
      "display_name": "Python 3"
    },
    "language_info": {
      "name": "python"
    }
  },
  "cells": [
    {
      "cell_type": "markdown",
      "metadata": {
        "id": "view-in-github",
        "colab_type": "text"
      },
      "source": [
        "<a href=\"https://colab.research.google.com/github/Tomokki/python-basic-kadai/blob/main/kadai_017.ipynb\" target=\"_parent\"><img src=\"https://colab.research.google.com/assets/colab-badge.svg\" alt=\"Open In Colab\"/></a>"
      ]
    },
    {
      "cell_type": "markdown",
      "source": [
        "#課題\n",
        "\n",
        "  学習したことを組み合わせてコードを書こう"
      ],
      "metadata": {
        "id": "pqTywyW1eRyq"
      }
    },
    {
      "cell_type": "code",
      "execution_count": null,
      "metadata": {
        "id": "1vUf_iPydxrK"
      },
      "outputs": [],
      "source": [
        "class Human:\n",
        "    def __init__(self, name, age):\n",
        "        self.name = name\n",
        "        self.age = age\n",
        "\n",
        "    def check_adult(self):\n",
        "        if self.age >= 20:\n",
        "            print(f\"{self.name}は大人である。\")\n",
        "        else:\n",
        "            print(f\"{self.name}は大人でない。\")\n",
        "\n",
        "# Humanクラスのインスタンスをリストに追加\n",
        "humans = [\n",
        "    Human(\"侍太郎\", 25),\n",
        "    Human(\"侍花子\", 18),\n",
        "    Human(\"侍二郎\", 30)\n",
        "]\n",
        "\n",
        "# リストの要素数分だけcheck_adultメソッドを呼び出す\n",
        "for human in humans:\n",
        "    human.check_adult()\n"
      ]
    }
  ]
}